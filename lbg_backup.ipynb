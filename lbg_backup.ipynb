{
 "cells": [
  {
   "cell_type": "code",
   "execution_count": 1,
   "outputs": [],
   "source": [
    "import numpy as np\n",
    "\n",
    "# create 3-dim data\n",
    "data_1 = np.array([[-1.5, 2.0, 5.0],\n",
    "            [-2.0, -2.0, 0.0],\n",
    "            [1.0, 1.0, 2.0],\n",
    "            [1.5, 1.5, 1.2],\n",
    "            [1.0, 2.0, 5.6],\n",
    "            [1.0, -2.0, -2.0],\n",
    "            [1.0, -3.0, -2.0],\n",
    "            [1.0, -2.5, -4.5]])\n",
    "\n",
    "# create random data set\n",
    "np.random.seed(0)\n",
    "training_data = np.random.rand(100, 2)\n",
    "\n",
    "# input variable: data, size_codebook, epsilon\n",
    "data = training_data\n",
    "size_codebook = 8\n",
    "epsilon = 0.00001\n",
    "verbose = True"
   ],
   "metadata": {
    "collapsed": false
   }
  },
  {
   "cell_type": "markdown",
   "source": [
    "# main function"
   ],
   "metadata": {
    "collapsed": false
   }
  },
  {
   "cell_type": "code",
   "execution_count": 29,
   "outputs": [
    {
     "name": "stdout",
     "output_type": "stream",
     "text": [
      "iteration: 20, size codebook: 2, average distance: 0.302, previous average distance: 0.161, err: -0.879\n",
      "iteration: 21, size codebook: 4, average distance: 0.250, previous average distance: 0.161, err: -0.555\n",
      "iteration: 22, size codebook: 8, average distance: 0.158, previous average distance: 0.161, err: 0.017\n",
      "iteration: 23, size codebook: 8, average distance: 0.142, previous average distance: 0.158, err: 0.101\n",
      "iteration: 24, size codebook: 8, average distance: 0.139, previous average distance: 0.142, err: 0.023\n",
      "iteration: 25, size codebook: 8, average distance: 0.137, previous average distance: 0.139, err: 0.011\n",
      "iteration: 26, size codebook: 8, average distance: 0.135, previous average distance: 0.137, err: 0.015\n",
      "iteration: 27, size codebook: 8, average distance: 0.133, previous average distance: 0.135, err: 0.019\n",
      "iteration: 28, size codebook: 8, average distance: 0.132, previous average distance: 0.133, err: 0.005\n",
      "iteration: 29, size codebook: 8, average distance: 0.131, previous average distance: 0.132, err: 0.010\n",
      "iteration: 30, size codebook: 8, average distance: 0.131, previous average distance: 0.131, err: 0.000\n"
     ]
    }
   ],
   "source": [
    "# function body\n",
    "\n",
    "# para: data, size: (n, d), n examples, d dimension\n",
    "# para: size_codebook, int,\n",
    "# para: verbose, if print results\n",
    "\n",
    "# function starts\n",
    "global _n_data, _dim_data\n",
    "_n_data, _dim_data = data.shape\n",
    "\n",
    "# initialization\n",
    "codebook = []\n",
    "codebook_abs_weights = [_n_data]\n",
    "codebook_rel_weights = [1]\n",
    "\n",
    "# initialize codevector with mean of all inputs\n",
    "c0 = np.mean(data, axis=0)\n",
    "\n",
    "# add code vector into the codebook\n",
    "codebook.append(c0)\n",
    "\n",
    "# calculate distortion\n",
    "avg_dist_c0 = distortion_c0(c0, data)\n",
    "\n",
    "# me: split code vectors until we have enough(size_codebook)\n",
    "while len(codebook) < size_codebook:\n",
    "\n",
    "    # step: split code vector\n",
    "    codebook = split_codebook(codebook, epsilon)\n",
    "\n",
    "    # update\n",
    "    len_codebook = len(codebook)# length of current code book\n",
    "    codebook_abs_weights = np.zeros(len_codebook)\n",
    "    codebook_rel_weights = np.zeros(len_codebook)\n",
    "\n",
    "    # Step: minimize distortion\n",
    "\n",
    "    # initialization\n",
    "    avg_dist = 0\n",
    "    err = epsilon + 1\n",
    "    # num_iter = 0\n",
    "\n",
    "    # for fixed length of code book, iterate untill converge\n",
    "    while err > epsilon:\n",
    "\n",
    "\n",
    "        # initialization - list recording the nearest code vector for each input data(vector)\n",
    "        closest_c_list = [None] * _n_data\n",
    "\n",
    "        # initialization - dict mapping code vector index -> input data(vector), the key is index, the value is ndarray of data(vector)\n",
    "        vecs_near_c = defaultdict(list)\n",
    "\n",
    "        # step: cluster feature vectors, where we find the closest code vector for all input data(vector)\n",
    "\n",
    "        # calculate euclidean distance between each input vector and code vector\n",
    "        # element (i,j) represent distance between input vector i and code vector j\n",
    "        dist = distance.cdist(data, np.array(codebook))\n",
    "        closest_c = np.argmin(dist, axis=1)\n",
    "\n",
    "        # get the minimum index of code vector for each input vector, and record\n",
    "        # closest_c_idx_list = closest_c.tolist()\n",
    "\n",
    "        # get the series of closest input vector idx for each code vector\n",
    "        closest_c_seris = pd.Series(closest_c)\n",
    "\n",
    "        # for each code vector index\n",
    "        for codevec_idx in closest_c_seris.unique():\n",
    "\n",
    "            # get list of input vector idx closest to a code vector\n",
    "            list_input_idx = closest_c_seris[closest_c_seris==codevec_idx].index.tolist()\n",
    "\n",
    "            # get list of input vector closest to a code vector\n",
    "            list_input = data[list_input_idx]\n",
    "\n",
    "            # add the list of input vector to vecs_near_c\n",
    "            vecs_near_c[codevec_idx] = list_input\n",
    "\n",
    "        # step: find centroid and update code book\n",
    "        codebook, codebook_abs_weights, codebook_rel_weights = update_codebook(len_codebook, vecs_near_c, codebook, codebook_abs_weights, codebook_rel_weights)\n",
    "\n",
    "        # step: compute Distortion and new err value\n",
    "        avg_dist_prev = avg_dist if avg_dist > 0 else avg_dist_c0\n",
    "        avg_dist = calculate_distance(closest_c, codebook, data)\n",
    "        err = (avg_dist_prev - avg_dist) / avg_dist_prev\n",
    "\n",
    "        # print results\n",
    "        if verbose==True:\n",
    "            print(f'iteration: {num_iter}, size codebook: {len_codebook}, average distance: {avg_dist.item():.3f}, previous average distance: {avg_dist_prev.item():.3f}, err: {err.item():.3f}')\n",
    "\n",
    "\n",
    "        num_iter += 1"
   ],
   "metadata": {
    "collapsed": false
   }
  },
  {
   "cell_type": "code",
   "execution_count": 10,
   "outputs": [
    {
     "data": {
      "text/plain": "[array([0.83727388, 0.82562582]),\n array([0.87187314, 0.51250114]),\n array([0.52541837, 0.70824284]),\n array([0.1584384 , 0.78644664]),\n array([0.62234101, 0.33365079]),\n array([0.72525974, 0.08717812]),\n array([0.1847406 , 0.39490445]),\n array([0.25003943, 0.1328859 ])]"
     },
     "execution_count": 10,
     "metadata": {},
     "output_type": "execute_result"
    }
   ],
   "source": [
    "# test result for code book size 8\n",
    "codebook"
   ],
   "metadata": {
    "collapsed": false
   }
  },
  {
   "cell_type": "code",
   "execution_count": 15,
   "outputs": [
    {
     "name": "stdout",
     "output_type": "stream",
     "text": [
      "\n",
      " codebook:\n",
      "\n",
      "[array([0.83727388, 0.82562582]), array([0.87187314, 0.51250114]), array([0.52541837, 0.70824284]), array([0.1584384 , 0.78644664]), array([0.62234101, 0.33365079]), array([0.72525974, 0.08717812]), array([0.1847406 , 0.39490445]), array([0.25003943, 0.1328859 ])]\n",
      "\n",
      " vec_idxs_near_c:\n",
      "\n",
      "defaultdict(<class 'list'>, {2: [0, 1, 2, 3, 6, 11, 16, 18, 22, 44, 53, 55, 62, 67, 68, 71, 93], 1: [4, 5, 35, 36, 57, 58, 60, 61, 70, 78, 92, 97], 7: [7, 23, 27, 30, 38, 39, 47, 79, 86, 95, 98], 3: [8, 12, 13, 15, 17, 41, 45, 46, 54, 73, 75, 76, 77, 88, 90, 96], 0: [9, 10, 19, 51, 59, 72, 74, 81, 82], 4: [14, 25, 28, 29, 42, 50, 56, 64, 65, 69, 80, 91, 94], 6: [20, 24, 32, 40, 52, 63, 66, 83, 99], 5: [21, 26, 31, 33, 34, 37, 43, 48, 49, 84, 85, 87, 89]})\n",
      "\n",
      " vecs_near_c:\n",
      "\n",
      "defaultdict(<class 'list'>, {2: array([[0.5488135 , 0.71518937],\n",
      "       [0.60276338, 0.54488318],\n",
      "       [0.4236548 , 0.64589411],\n",
      "       [0.43758721, 0.891773  ],\n",
      "       [0.56804456, 0.92559664],\n",
      "       [0.46147936, 0.78052918],\n",
      "       [0.45615033, 0.56843395],\n",
      "       [0.61209572, 0.616934  ],\n",
      "       [0.66676672, 0.67063787],\n",
      "       [0.5759465 , 0.9292962 ],\n",
      "       [0.59204193, 0.57225191],\n",
      "       [0.44712538, 0.84640867],\n",
      "       [0.42385505, 0.60639321],\n",
      "       [0.56996491, 0.59087276],\n",
      "       [0.57432525, 0.65320082],\n",
      "       [0.43586493, 0.89192336],\n",
      "       [0.5356328 , 0.58990998]]), 1: array([[0.96366276, 0.38344152],\n",
      "       [0.79172504, 0.52889492],\n",
      "       [0.97645947, 0.4686512 ],\n",
      "       [0.97676109, 0.60484552],\n",
      "       [0.81379782, 0.39650574],\n",
      "       [0.8811032 , 0.58127287],\n",
      "       [0.72525428, 0.50132438],\n",
      "       [0.95608363, 0.6439902 ],\n",
      "       [0.8965466 , 0.36756187],\n",
      "       [0.80731896, 0.56910074],\n",
      "       [0.934214  , 0.61396596],\n",
      "       [0.7395508 , 0.49045881]]), 7: array([[0.07103606, 0.0871293 ],\n",
      "       [0.21038256, 0.1289263 ],\n",
      "       [0.20887676, 0.16130952],\n",
      "       [0.15896958, 0.11037514],\n",
      "       [0.28280696, 0.12019656],\n",
      "       [0.2961402 , 0.11872772],\n",
      "       [0.28940609, 0.18319136],\n",
      "       [0.4071833 , 0.069167  ],\n",
      "       [0.19999652, 0.01852179],\n",
      "       [0.39822106, 0.20984375],\n",
      "       [0.22741463, 0.25435648]]), 3: array([[0.0202184 , 0.83261985],\n",
      "       [0.11827443, 0.63992102],\n",
      "       [0.14335329, 0.94466892],\n",
      "       [0.26455561, 0.77423369],\n",
      "       [0.0187898 , 0.6176355 ],\n",
      "       [0.0641475 , 0.69247212],\n",
      "       [0.31856895, 0.66741038],\n",
      "       [0.13179786, 0.7163272 ],\n",
      "       [0.22308163, 0.95274901],\n",
      "       [0.10022689, 0.91948261],\n",
      "       [0.1494483 , 0.86812606],\n",
      "       [0.16249293, 0.61555956],\n",
      "       [0.12381998, 0.84800823],\n",
      "       [0.34535168, 0.92808129],\n",
      "       [0.16469416, 0.6214784 ],\n",
      "       [0.18619301, 0.94437239]]), 0: array([[0.77815675, 0.87001215],\n",
      "       [0.97861834, 0.79915856],\n",
      "       [0.94374808, 0.6818203 ],\n",
      "       [0.73519402, 0.96218855],\n",
      "       [0.88173536, 0.69253159],\n",
      "       [0.80619399, 0.70388858],\n",
      "       [0.7142413 , 0.99884701],\n",
      "       [0.7220556 , 0.86638233],\n",
      "       [0.97552151, 0.85580334]]), 4: array([[0.52184832, 0.41466194],\n",
      "       [0.57019677, 0.43860151],\n",
      "       [0.65310833, 0.2532916 ],\n",
      "       [0.46631077, 0.24442559],\n",
      "       [0.56660145, 0.26538949],\n",
      "       [0.67781654, 0.27000797],\n",
      "       [0.69947928, 0.29743695],\n",
      "       [0.66017354, 0.29007761],\n",
      "       [0.61801543, 0.4287687 ],\n",
      "       [0.65210327, 0.43141844],\n",
      "       [0.69742877, 0.45354268],\n",
      "       [0.57722859, 0.23789282],\n",
      "       [0.73012203, 0.311945  ]]), 6: array([[0.3595079 , 0.43703195],\n",
      "       [0.31542835, 0.36371077],\n",
      "       [0.19658236, 0.36872517],\n",
      "       [0.31798318, 0.41426299],\n",
      "       [0.24875314, 0.57615733],\n",
      "       [0.0191932 , 0.30157482],\n",
      "       [0.13547406, 0.29828233],\n",
      "       [0.01171408, 0.35997806],\n",
      "       [0.05802916, 0.43441663]]), 5: array([[0.6976312 , 0.06022547],\n",
      "       [0.98837384, 0.10204481],\n",
      "       [0.65632959, 0.13818295],\n",
      "       [0.82099323, 0.09710128],\n",
      "       [0.83794491, 0.09609841],\n",
      "       [0.73926358, 0.03918779],\n",
      "       [0.52324805, 0.09394051],\n",
      "       [0.58651293, 0.02010755],\n",
      "       [0.82894003, 0.00469548],\n",
      "       [0.72999056, 0.17162968],\n",
      "       [0.52103661, 0.05433799],\n",
      "       [0.7936977 , 0.22392469],\n",
      "       [0.7044144 , 0.03183893]])})\n"
     ]
    }
   ],
   "source": [
    "# test cell\n",
    "print('\\n codebook:\\n')\n",
    "print(codebook)\n",
    "print('\\n vec_idxs_near_c:\\n')\n",
    "print(vec_idxs_near_c)\n",
    "print('\\n vecs_near_c:\\n')\n",
    "print(vecs_near_c)"
   ],
   "metadata": {
    "collapsed": false
   }
  },
  {
   "cell_type": "code",
   "execution_count": 30,
   "outputs": [
    {
     "data": {
      "text/plain": "array([2, 2, 2, 2, 1, 1, 2, 7, 3, 0, 0, 2, 3, 3, 4, 3, 2, 3, 2, 0, 6, 5,\n       2, 7, 6, 4, 5, 7, 4, 4, 7, 5, 6, 5, 5, 1, 1, 5, 7, 7, 6, 3, 4, 5,\n       2, 3, 3, 7, 5, 5, 4, 0, 6, 2, 3, 2, 4, 1, 1, 0, 1, 1, 2, 6, 4, 4,\n       6, 2, 2, 4, 1, 2, 0, 3, 0, 3, 3, 3, 1, 7, 4, 0, 0, 6, 5, 5, 7, 5,\n       3, 5, 3, 4, 1, 2, 4, 7, 3, 1, 7, 6], dtype=int64)"
     },
     "execution_count": 30,
     "metadata": {},
     "output_type": "execute_result"
    }
   ],
   "source": [
    "closest_c"
   ],
   "metadata": {
    "collapsed": false
   }
  },
  {
   "cell_type": "markdown",
   "source": [
    "# function"
   ],
   "metadata": {
    "collapsed": false
   }
  },
  {
   "cell_type": "markdown",
   "source": [
    "## calculate euclidean distance"
   ],
   "metadata": {
    "collapsed": false
   }
  },
  {
   "cell_type": "code",
   "execution_count": 5,
   "outputs": [],
   "source": [
    "def calculate_distance(closest_c, codebook, data):\n",
    "    \"\"\"\n",
    "    calculate euclidean distance between codebook and input data\n",
    "    :param closest_c:\n",
    "    :param codebook:\n",
    "    :param data:\n",
    "    :return:\n",
    "    \"\"\"\n",
    "    total_distance = 0\n",
    "\n",
    "    for data_idx, codevec_idx in enumerate(closest_c):\n",
    "\n",
    "        # distance between one input data vector and its code vector\n",
    "        dist = distance.cdist(np.reshape(data[data_idx], (1, -1)), np.reshape(codebook[codevec_idx], (1, -1)), metric='euclidean')\n",
    "\n",
    "        # add\n",
    "        total_distance += dist\n",
    "\n",
    "    # average\n",
    "    total_distance /= data.shape[0]\n",
    "\n",
    "    return total_distance"
   ],
   "metadata": {
    "collapsed": false
   }
  },
  {
   "cell_type": "markdown",
   "source": [
    "## update code book"
   ],
   "metadata": {
    "collapsed": false
   }
  },
  {
   "cell_type": "code",
   "execution_count": 6,
   "outputs": [],
   "source": [
    "def update_codebook(len_codebook, vecs_near_c, codebook, codebook_abs_weights, codebook_rel_weights):\n",
    "    \"\"\"\n",
    "\n",
    "    :param len_codebook:\n",
    "    :param vecs_near_c:\n",
    "    :param codebook:\n",
    "    :param codebook_abs_weights:\n",
    "    :param codebook_rel_weights:\n",
    "    :return:\n",
    "    \"\"\"\n",
    "    # for all code vector index of current codebook\n",
    "    for codevec_idx, codevec in enumerate(codebook):\n",
    "\n",
    "        # get the proximity input vectors\n",
    "        vecs = vecs_near_c.get(codevec_idx, [])\n",
    "\n",
    "        # number of proximity input vectors\n",
    "        num_vecs_near_c = len(vecs)\n",
    "\n",
    "        # update code vector, if it has more than 1 vector of its proximity input vectors\n",
    "        if num_vecs_near_c > 0:\n",
    "\n",
    "            # calculate new code vector\n",
    "            new_codevec = np.mean(vecs, axis=0)\n",
    "\n",
    "            # update code vector\n",
    "            codebook[codevec_idx] = new_codevec\n",
    "\n",
    "            # update weights\n",
    "            codebook_abs_weights[codevec_idx] = num_vecs_near_c\n",
    "            codebook_rel_weights[codevec_idx] = num_vecs_near_c / _n_data\n",
    "\n",
    "    return codebook, codebook_abs_weights, codebook_rel_weights"
   ],
   "metadata": {
    "collapsed": false
   }
  },
  {
   "cell_type": "markdown",
   "source": [
    "## split code book"
   ],
   "metadata": {
    "collapsed": false
   }
  },
  {
   "cell_type": "code",
   "execution_count": 7,
   "outputs": [],
   "source": [
    "# functions\n",
    "def split_codebook(codebook, epsilon):\n",
    "    \"\"\"\n",
    "    split code book by adding and subtracting epsilon from original code vector\n",
    "    :param codebook: input code book, list of code vector(1-dim ndarray), size of each element is (dim_data,)\n",
    "    :param epsilon: value to be added or subtracted\n",
    "    :return: new code book, list of code vector(1-dim ndarray)\n",
    "    \"\"\"\n",
    "    # initialize new codebook\n",
    "    new_codebook = []\n",
    "\n",
    "    # add and subtract from all original code vector\n",
    "    for code_vector in codebook:\n",
    "        new_codebook.append(code_vector + epsilon)\n",
    "        new_codebook.append(code_vector - epsilon)\n",
    "\n",
    "    return new_codebook"
   ],
   "metadata": {
    "collapsed": false
   }
  },
  {
   "cell_type": "markdown",
   "source": [
    "## distortion"
   ],
   "metadata": {
    "collapsed": false
   }
  },
  {
   "cell_type": "code",
   "execution_count": 8,
   "outputs": [],
   "source": [
    "\n",
    "def distortion_c0(c0, data):\n",
    "    \"\"\"\n",
    "    calculate the distortion between initialized codevector(c0) and data set\n",
    "    :param c0: numpy vector of size (d,)\n",
    "    :param data: numpy array of size (n, d), with n examples and d dimension\n",
    "    :return: a value\n",
    "    \"\"\"\n",
    "    n_data = data.shape[0]\n",
    "    c0 = np.reshape(c0, (1, -1))\n",
    "    distortion = (1/n_data) * np.sum(np.power(np.linalg.norm(data - c0), 2))\n",
    "    return distortion"
   ],
   "metadata": {
    "collapsed": false
   }
  },
  {
   "cell_type": "markdown",
   "source": [
    "# test algorithm"
   ],
   "metadata": {
    "collapsed": false
   }
  },
  {
   "cell_type": "code",
   "execution_count": 1,
   "outputs": [],
   "source": [
    "import lbg"
   ],
   "metadata": {
    "collapsed": false
   }
  },
  {
   "cell_type": "code",
   "execution_count": 2,
   "outputs": [
    {
     "data": {
      "text/plain": "'E:\\\\OneDrive - Northeastern University\\\\code\\\\code_nu\\\\code_nu_CS 6140\\\\LBG_from_scratch'"
     },
     "execution_count": 2,
     "metadata": {},
     "output_type": "execute_result"
    }
   ],
   "source": [
    "%pwd"
   ],
   "metadata": {
    "collapsed": false
   }
  },
  {
   "cell_type": "code",
   "execution_count": 5,
   "outputs": [],
   "source": [
    "# create random data set\n",
    "import numpy as np\n",
    "np.random.seed(0)\n",
    "training_data = np.random.rand(100, 2)"
   ],
   "metadata": {
    "collapsed": false
   }
  },
  {
   "cell_type": "code",
   "execution_count": 6,
   "outputs": [
    {
     "name": "stdout",
     "output_type": "stream",
     "text": [
      "iteration: 0, size codebook: 2, average distance: 0.302, previous average distance: 0.161, err: -0.879\n",
      "iteration: 0, size codebook: 4, average distance: 0.250, previous average distance: 0.161, err: -0.555\n",
      "iteration: 0, size codebook: 8, average distance: 0.158, previous average distance: 0.161, err: 0.017\n",
      "iteration: 1, size codebook: 8, average distance: 0.142, previous average distance: 0.158, err: 0.101\n",
      "iteration: 2, size codebook: 8, average distance: 0.139, previous average distance: 0.142, err: 0.023\n",
      "iteration: 3, size codebook: 8, average distance: 0.137, previous average distance: 0.139, err: 0.011\n",
      "iteration: 4, size codebook: 8, average distance: 0.135, previous average distance: 0.137, err: 0.015\n",
      "iteration: 5, size codebook: 8, average distance: 0.133, previous average distance: 0.135, err: 0.019\n",
      "iteration: 6, size codebook: 8, average distance: 0.132, previous average distance: 0.133, err: 0.005\n",
      "iteration: 7, size codebook: 8, average distance: 0.131, previous average distance: 0.132, err: 0.010\n",
      "iteration: 8, size codebook: 8, average distance: 0.131, previous average distance: 0.131, err: 0.000\n"
     ]
    }
   ],
   "source": [
    "codebook, abs_weights, rel_weights = lbg.generate_codebook(data=training_data, size_codebook=8, epsilon=0.00001, verbose=True)"
   ],
   "metadata": {
    "collapsed": false
   }
  },
  {
   "cell_type": "code",
   "execution_count": 8,
   "outputs": [
    {
     "data": {
      "text/plain": "Text(0, 0.5, 'x2')"
     },
     "execution_count": 8,
     "metadata": {},
     "output_type": "execute_result"
    },
    {
     "data": {
      "text/plain": "<Figure size 640x480 with 1 Axes>",
      "image/png": "[encoded data removed]"
     },
     "metadata": {},
     "output_type": "display_data"
    }
   ],
   "source": [
    "# visualize results\n",
    "import matplotlib.pyplot as plt\n",
    "\n",
    "f, ax = plt.subplots()\n",
    "\n",
    "ax.scatter(training_data[:, 0], training_data[:, 1], label='Training Data', s=10)\n",
    "\n",
    "for codevec_idx, codevec in enumerate(codebook):\n",
    "    ax.scatter(codevec[0], codevec[1], label=f'Code Vector {codevec_idx+1}', s=60)\n",
    "\n",
    "# adjust legend\n",
    "box = ax.get_position()\n",
    "ax.set_position([box.x0, box.y0, box.width * 0.8, box.height])\n",
    "ax.legend(loc='center left', bbox_to_anchor=(1, 0.5))\n",
    "\n",
    "ax.set_title('Clustering by Lined-Buzo-Gray algorithm')\n",
    "ax.set_xlabel('x1')\n",
    "ax.set_ylabel('x2')"
   ],
   "metadata": {
    "collapsed": false
   }
  }
 ],
 "metadata": {
  "kernelspec": {
   "display_name": "Python 3",
   "language": "python",
   "name": "python3"
  },
  "language_info": {
   "codemirror_mode": {
    "name": "ipython",
    "version": 2
   },
   "file_extension": ".py",
   "mimetype": "text/x-python",
   "name": "python",
   "nbconvert_exporter": "python",
   "pygments_lexer": "ipython2",
   "version": "2.7.6"
  }
 },
 "nbformat": 4,
 "nbformat_minor": 0
}
